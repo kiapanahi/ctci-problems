{
 "cells": [
  {
   "attachments": {},
   "cell_type": "markdown",
   "metadata": {},
   "source": [
    "# Is Unique\n",
    "\n",
    "Implement an algorithm to determine if a string has all unique characters"
   ]
  },
  {
   "attachments": {},
   "cell_type": "markdown",
   "metadata": {
    "slideshow": {
     "slide_type": "slide"
    }
   },
   "source": [
    "## With additional data structures"
   ]
  },
  {
   "attachments": {},
   "cell_type": "markdown",
   "metadata": {},
   "source": [
    "In this solution we use a hash map to record visited characters in the given string and check each new character with the visited hash map\n",
    "\n",
    "Hash map's implementation is not important here and could vary from a simple array to a Python `set` Depending on the problem input constraints."
   ]
  },
  {
   "cell_type": "code",
   "execution_count": 27,
   "metadata": {},
   "outputs": [],
   "source": [
    "def is_unique(text: str) -> bool:\n",
    "    char_map = set()\n",
    "    for c in text:\n",
    "        if c in char_map:\n",
    "            return False\n",
    "        char_map.add(c)\n",
    "\n",
    "    return True\n"
   ]
  },
  {
   "attachments": {},
   "cell_type": "markdown",
   "metadata": {},
   "source": [
    "## Without additional data structures"
   ]
  },
  {
   "attachments": {},
   "cell_type": "markdown",
   "metadata": {},
   "source": [
    "In this solution we use in-place sorting functionality of Python's `list`'s `sort` method and then check for adjacent members to check whether or not they are equal; If so, the list contains duplicate hence the original text is not all unique."
   ]
  },
  {
   "cell_type": "code",
   "execution_count": 30,
   "metadata": {},
   "outputs": [],
   "source": [
    "def is_unique_no_ds(text: str) -> bool:\n",
    "    char_list = list(text)\n",
    "    char_list.sort()\n",
    "    for i in range(len(char_list)-1):\n",
    "        if char_list[i] == char_list[i+1]:\n",
    "            return False\n",
    "    return True\n"
   ]
  },
  {
   "attachments": {},
   "cell_type": "markdown",
   "metadata": {},
   "source": [
    "## Test Cases"
   ]
  },
  {
   "cell_type": "code",
   "execution_count": 43,
   "metadata": {},
   "outputs": [
    {
     "name": "stdout",
     "output_type": "stream",
     "text": [
      "True\n",
      "False\n"
     ]
    }
   ],
   "source": [
    "print(is_unique('abcdef'));\n",
    "print(is_unique_no_ds('abcdefb'));"
   ]
  }
 ],
 "metadata": {
  "kernelspec": {
   "display_name": ".venv",
   "language": "python",
   "name": "python3"
  },
  "language_info": {
   "codemirror_mode": {
    "name": "ipython",
    "version": 3
   },
   "file_extension": ".py",
   "mimetype": "text/x-python",
   "name": "python",
   "nbconvert_exporter": "python",
   "pygments_lexer": "ipython3",
   "version": "3.10.9"
  },
  "orig_nbformat": 4,
  "vscode": {
   "interpreter": {
    "hash": "beb3eee691f89919d8a83ab213df3438341682c98b1929d43582a09fbf1a7eba"
   }
  }
 },
 "nbformat": 4,
 "nbformat_minor": 2
}
